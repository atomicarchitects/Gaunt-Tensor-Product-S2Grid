{
 "cells": [
  {
   "cell_type": "code",
   "execution_count": 1,
   "metadata": {},
   "outputs": [
    {
     "name": "stderr",
     "output_type": "stream",
     "text": [
      "/home/ameyad/miniconda3/envs/gaunt-mace/lib/python3.10/site-packages/tqdm/auto.py:21: TqdmWarning: IProgress not found. Please update jupyter and ipywidgets. See https://ipywidgets.readthedocs.io/en/stable/user_install.html\n",
      "  from .autonotebook import tqdm as notebook_tqdm\n"
     ]
    }
   ],
   "source": [
    "import os\n",
    "\n",
    "import hickle as hkl\n",
    "import ase.io\n",
    "import numpy as np\n",
    "import torch\n",
    "import torch.nn as nn\n",
    "import torch.optim\n",
    "import tqdm\n",
    "import e3nn\n",
    "import e3nn.util\n",
    "import e3nn.util.test\n",
    "\n",
    "\n",
    "import plotly.graph_objects as go\n",
    "import matplotlib.pyplot as plt\n",
    "import lovelyplots\n",
    "plt.style.use('ipynb')\n"
   ]
  },
  {
   "cell_type": "code",
   "execution_count": 2,
   "metadata": {},
   "outputs": [],
   "source": [
    "device = torch.device('cuda:0' if torch.cuda.is_available() else 'cpu')"
   ]
  },
  {
   "cell_type": "code",
   "execution_count": 3,
   "metadata": {},
   "outputs": [],
   "source": [
    "structures = ase.io.read('./OHX.xyz', index=':')"
   ]
  },
  {
   "cell_type": "code",
   "execution_count": 4,
   "metadata": {},
   "outputs": [],
   "source": [
    "species = [structure.get_atomic_numbers() for structure in structures]\n",
    "assert np.all(species[0] == species)\n",
    "species = species[0]"
   ]
  },
  {
   "cell_type": "code",
   "execution_count": 5,
   "metadata": {},
   "outputs": [
    {
     "data": {
      "text/plain": [
       "torch.Size([1000, 9])"
      ]
     },
     "execution_count": 5,
     "metadata": {},
     "output_type": "execute_result"
    }
   ],
   "source": [
    "positions = [structure.positions for structure in structures]\n",
    "positions = np.array(positions)\n",
    "\n",
    "# Center positions with zero mean\n",
    "positions -= positions.mean(axis=1, keepdims=True)\n",
    "\n",
    "positions = torch.tensor(positions, dtype=torch.float64)\n",
    "positions = positions.view(positions.shape[0], -1)\n",
    "positions.shape"
   ]
  },
  {
   "cell_type": "code",
   "execution_count": 21,
   "metadata": {},
   "outputs": [
    {
     "name": "stdout",
     "output_type": "stream",
     "text": [
      "H1s-H1s torch.Size([1000, 1, 1])\n",
      "H1s-H2p torch.Size([1000, 1, 3])\n",
      "H1s-H2s torch.Size([1000, 1, 1])\n",
      "H1s-He1s torch.Size([1000, 1, 1])\n",
      "H1s-He2p torch.Size([1000, 1, 3])\n",
      "H1s-He2s torch.Size([1000, 1, 1])\n",
      "H1s-O1s torch.Size([1000, 1, 1])\n",
      "H1s-O2p torch.Size([1000, 1, 3])\n",
      "H1s-O2s torch.Size([1000, 1, 1])\n",
      "H1s-O3d torch.Size([1000, 1, 5])\n",
      "H1s-O3p torch.Size([1000, 1, 3])\n",
      "H1s-O3s torch.Size([1000, 1, 1])\n",
      "H2p-H2p torch.Size([1000, 3, 3])\n",
      "H2p-He1s torch.Size([1000, 3, 1])\n",
      "H2p-He2p torch.Size([1000, 3, 3])\n",
      "H2p-He2s torch.Size([1000, 3, 1])\n",
      "H2p-O1s torch.Size([1000, 3, 1])\n",
      "H2p-O2p torch.Size([1000, 3, 3])\n",
      "H2p-O2s torch.Size([1000, 3, 1])\n",
      "H2p-O3d torch.Size([1000, 3, 5])\n",
      "H2p-O3p torch.Size([1000, 3, 3])\n",
      "H2p-O3s torch.Size([1000, 3, 1])\n",
      "H2s-H2p torch.Size([1000, 1, 3])\n",
      "H2s-H2s torch.Size([1000, 1, 1])\n",
      "H2s-He1s torch.Size([1000, 1, 1])\n",
      "H2s-He2p torch.Size([1000, 1, 3])\n",
      "H2s-He2s torch.Size([1000, 1, 1])\n",
      "H2s-O1s torch.Size([1000, 1, 1])\n",
      "H2s-O2p torch.Size([1000, 1, 3])\n",
      "H2s-O2s torch.Size([1000, 1, 1])\n",
      "H2s-O3d torch.Size([1000, 1, 5])\n",
      "H2s-O3p torch.Size([1000, 1, 3])\n",
      "H2s-O3s torch.Size([1000, 1, 1])\n",
      "He1s-He1s torch.Size([1000, 1, 1])\n",
      "He1s-He2p torch.Size([1000, 1, 3])\n",
      "He1s-He2s torch.Size([1000, 1, 1])\n",
      "He1s-O1s torch.Size([1000, 1, 1])\n",
      "He1s-O2p torch.Size([1000, 1, 3])\n",
      "He1s-O2s torch.Size([1000, 1, 1])\n",
      "He1s-O3d torch.Size([1000, 1, 5])\n",
      "He1s-O3p torch.Size([1000, 1, 3])\n",
      "He1s-O3s torch.Size([1000, 1, 1])\n",
      "He2p-He2p torch.Size([1000, 3, 3])\n",
      "He2p-O1s torch.Size([1000, 3, 1])\n",
      "He2p-O2p torch.Size([1000, 3, 3])\n",
      "He2p-O2s torch.Size([1000, 3, 1])\n",
      "He2p-O3d torch.Size([1000, 3, 5])\n",
      "He2p-O3p torch.Size([1000, 3, 3])\n",
      "He2p-O3s torch.Size([1000, 3, 1])\n",
      "He2s-He2p torch.Size([1000, 1, 3])\n",
      "He2s-He2s torch.Size([1000, 1, 1])\n",
      "He2s-O1s torch.Size([1000, 1, 1])\n",
      "He2s-O2p torch.Size([1000, 1, 3])\n",
      "He2s-O2s torch.Size([1000, 1, 1])\n",
      "He2s-O3d torch.Size([1000, 1, 5])\n",
      "He2s-O3p torch.Size([1000, 1, 3])\n",
      "He2s-O3s torch.Size([1000, 1, 1])\n",
      "O1s-O1s torch.Size([1000, 1, 1])\n",
      "O1s-O2p torch.Size([1000, 1, 3])\n",
      "O1s-O2s torch.Size([1000, 1, 1])\n",
      "O1s-O3d torch.Size([1000, 1, 5])\n",
      "O1s-O3p torch.Size([1000, 1, 3])\n",
      "O1s-O3s torch.Size([1000, 1, 1])\n",
      "O2p-O2p torch.Size([1000, 3, 3])\n",
      "O2p-O3d torch.Size([1000, 3, 5])\n",
      "O2p-O3p torch.Size([1000, 3, 3])\n",
      "O2p-O3s torch.Size([1000, 3, 1])\n",
      "O2s-O2p torch.Size([1000, 1, 3])\n",
      "O2s-O2s torch.Size([1000, 1, 1])\n",
      "O2s-O3d torch.Size([1000, 1, 5])\n",
      "O2s-O3p torch.Size([1000, 1, 3])\n",
      "O2s-O3s torch.Size([1000, 1, 1])\n",
      "O3d-O3d torch.Size([1000, 5, 5])\n",
      "O3p-O3d torch.Size([1000, 3, 5])\n",
      "O3p-O3p torch.Size([1000, 3, 3])\n",
      "O3s-O3d torch.Size([1000, 1, 5])\n",
      "O3s-O3p torch.Size([1000, 1, 3])\n",
      "O3s-O3s torch.Size([1000, 1, 1])\n"
     ]
    }
   ],
   "source": [
    "overlap_tensors = {}\n",
    "for filename in sorted(os.listdir('./OHHe_blocks')):\n",
    "    if not filename.endswith('.hickle'):\n",
    "        continue\n",
    "\n",
    "    key = filename.split('.')[0]\n",
    "    overlap_tensors[key] = hkl.load(f'./OHHe_blocks/{filename}')\n",
    "\n",
    "for key, tensor in overlap_tensors.items():\n",
    "    print(key, tensor.shape)"
   ]
  },
  {
   "cell_type": "code",
   "execution_count": 7,
   "metadata": {},
   "outputs": [],
   "source": [
    "# Fix convention.\n",
    "R = np.array([\n",
    "    [0, 0, 1],  # x = original x (third component)\n",
    "    [1, 0, 0],  # y = original y (first component)\n",
    "    [0, 1, 0]   # z = original z (second component)\n",
    "])\n",
    "R = torch.tensor(R, dtype=torch.float64)\n",
    "D0R = e3nn.o3.Irreps(\"0e\").D_from_matrix(R)\n",
    "D1R = e3nn.o3.Irreps(\"1o\").D_from_matrix(R)\n",
    "D2R = e3nn.o3.Irreps(\"2e\").D_from_matrix(R)\n",
    "\n",
    "def get_wigner_D(orbital: str) -> torch.Tensor:\n",
    "    assert len(orbital) in [3, 4], f'Invalid orbital: {orbital}'\n",
    "    if 's' in orbital:\n",
    "        return D0R\n",
    "    if 'p' in orbital:\n",
    "        return D1R\n",
    "    if 'd' in orbital:\n",
    "        return D2R\n",
    "    raise ValueError(f'Unknown orbital: {orbital}')\n"
   ]
  },
  {
   "cell_type": "code",
   "execution_count": 8,
   "metadata": {},
   "outputs": [],
   "source": [
    "\n",
    "# Fix convention.\n",
    "for key, tensor in overlap_tensors.items():\n",
    "    orbitals = key.split('-')\n",
    "    left_wigner = get_wigner_D(orbitals[0])\n",
    "    right_wigner = get_wigner_D(orbitals[1])\n",
    "    overlap_tensors[key] = left_wigner @ tensor @ right_wigner.T"
   ]
  },
  {
   "cell_type": "code",
   "execution_count": 9,
   "metadata": {},
   "outputs": [
    {
     "name": "stdout",
     "output_type": "stream",
     "text": [
      "H1s-H1s torch.Size([1000, 1, 1])\n",
      "H1s-H2p torch.Size([1000, 1, 3])\n",
      "H1s-H2s torch.Size([1000, 1, 1])\n",
      "H1s-He1s torch.Size([1000, 1, 1])\n",
      "H1s-He2p torch.Size([1000, 1, 3])\n",
      "H1s-He2s torch.Size([1000, 1, 1])\n",
      "H1s-O1s torch.Size([1000, 1, 1])\n",
      "H1s-O2p torch.Size([1000, 1, 3])\n",
      "H1s-O2s torch.Size([1000, 1, 1])\n",
      "H1s-O3d torch.Size([1000, 1, 5])\n",
      "H1s-O3p torch.Size([1000, 1, 3])\n",
      "H1s-O3s torch.Size([1000, 1, 1])\n",
      "H2p-H2p torch.Size([1000, 3, 3])\n",
      "H2p-He1s torch.Size([1000, 3, 1])\n",
      "H2p-He2p torch.Size([1000, 3, 3])\n",
      "H2p-He2s torch.Size([1000, 3, 1])\n",
      "H2p-O1s torch.Size([1000, 3, 1])\n",
      "H2p-O2p torch.Size([1000, 3, 3])\n",
      "H2p-O2s torch.Size([1000, 3, 1])\n",
      "H2p-O3d torch.Size([1000, 3, 5])\n",
      "H2p-O3p torch.Size([1000, 3, 3])\n",
      "H2p-O3s torch.Size([1000, 3, 1])\n",
      "H2s-H2p torch.Size([1000, 1, 3])\n",
      "H2s-H2s torch.Size([1000, 1, 1])\n",
      "H2s-He1s torch.Size([1000, 1, 1])\n",
      "H2s-He2p torch.Size([1000, 1, 3])\n",
      "H2s-He2s torch.Size([1000, 1, 1])\n",
      "H2s-O1s torch.Size([1000, 1, 1])\n",
      "H2s-O2p torch.Size([1000, 1, 3])\n",
      "H2s-O2s torch.Size([1000, 1, 1])\n",
      "H2s-O3d torch.Size([1000, 1, 5])\n",
      "H2s-O3p torch.Size([1000, 1, 3])\n",
      "H2s-O3s torch.Size([1000, 1, 1])\n",
      "He1s-He1s torch.Size([1000, 1, 1])\n",
      "He1s-He2p torch.Size([1000, 1, 3])\n",
      "He1s-He2s torch.Size([1000, 1, 1])\n",
      "He1s-O1s torch.Size([1000, 1, 1])\n",
      "He1s-O2p torch.Size([1000, 1, 3])\n",
      "He1s-O2s torch.Size([1000, 1, 1])\n",
      "He1s-O3d torch.Size([1000, 1, 5])\n",
      "He1s-O3p torch.Size([1000, 1, 3])\n",
      "He1s-O3s torch.Size([1000, 1, 1])\n",
      "He2p-He2p torch.Size([1000, 3, 3])\n",
      "He2p-O1s torch.Size([1000, 3, 1])\n",
      "He2p-O2p torch.Size([1000, 3, 3])\n",
      "He2p-O2s torch.Size([1000, 3, 1])\n",
      "He2p-O3d torch.Size([1000, 3, 5])\n",
      "He2p-O3p torch.Size([1000, 3, 3])\n",
      "He2p-O3s torch.Size([1000, 3, 1])\n",
      "He2s-He2p torch.Size([1000, 1, 3])\n",
      "He2s-He2s torch.Size([1000, 1, 1])\n",
      "He2s-O1s torch.Size([1000, 1, 1])\n",
      "He2s-O2p torch.Size([1000, 1, 3])\n",
      "He2s-O2s torch.Size([1000, 1, 1])\n",
      "He2s-O3d torch.Size([1000, 1, 5])\n",
      "He2s-O3p torch.Size([1000, 1, 3])\n",
      "He2s-O3s torch.Size([1000, 1, 1])\n",
      "O1s-O1s torch.Size([1000, 1, 1])\n",
      "O1s-O2p torch.Size([1000, 1, 3])\n",
      "O1s-O2s torch.Size([1000, 1, 1])\n",
      "O1s-O3d torch.Size([1000, 1, 5])\n",
      "O1s-O3p torch.Size([1000, 1, 3])\n",
      "O1s-O3s torch.Size([1000, 1, 1])\n",
      "O2p-O2p torch.Size([1000, 3, 3])\n",
      "O2p-O3d torch.Size([1000, 3, 5])\n",
      "O2p-O3p torch.Size([1000, 3, 3])\n",
      "O2p-O3s torch.Size([1000, 3, 1])\n",
      "O2s-O2p torch.Size([1000, 1, 3])\n",
      "O2s-O2s torch.Size([1000, 1, 1])\n",
      "O2s-O3d torch.Size([1000, 1, 5])\n",
      "O2s-O3p torch.Size([1000, 1, 3])\n",
      "O2s-O3s torch.Size([1000, 1, 1])\n",
      "O3d-O3d torch.Size([1000, 5, 5])\n",
      "O3p-O3d torch.Size([1000, 3, 5])\n",
      "O3p-O3p torch.Size([1000, 3, 3])\n",
      "O3s-O3d torch.Size([1000, 1, 5])\n",
      "O3s-O3p torch.Size([1000, 1, 3])\n",
      "O3s-O3s torch.Size([1000, 1, 1])\n"
     ]
    }
   ],
   "source": [
    "for key, tensor in overlap_tensors.items():\n",
    "    print(key, tensor.shape)"
   ]
  },
  {
   "cell_type": "code",
   "execution_count": 10,
   "metadata": {},
   "outputs": [],
   "source": [
    "def get_irreps(orbital: str) -> str:\n",
    "    assert len(orbital) in [3, 4], f'Invalid orbital: {orbital}'\n",
    "    if 's' in orbital:\n",
    "        return e3nn.o3.Irrep(\"0e\")\n",
    "    if 'p' in orbital:\n",
    "        return e3nn.o3.Irrep(\"1o\")\n",
    "    if 'd' in orbital:\n",
    "        return e3nn.o3.Irrep(\"2e\")\n",
    "    raise ValueError(f'Unknown orbital: {orbital}')\n",
    "\n",
    "\n",
    "def construct_rtp(orbitals: str) -> nn.Module:\n",
    "    left, right = orbitals.split('-')\n",
    "    return e3nn.o3.ReducedTensorProducts(\n",
    "        \"ij\",\n",
    "        i=get_irreps(left),\n",
    "        j=get_irreps(right),\n",
    "    )"
   ]
  },
  {
   "cell_type": "code",
   "execution_count": 11,
   "metadata": {},
   "outputs": [],
   "source": [
    "def reduce_overlap_tensor(overlap_tensor, rtp):\n",
    "    cob = rtp.change_of_basis.to(overlap_tensor.dtype)\n",
    "    return rtp.irreps_out, torch.einsum('kij,...ij->...k', cob, overlap_tensor)\n",
    "\n",
    "def restore_overlap_tensor(overlap_tensor, rtp):\n",
    "    cob = rtp.change_of_basis.to(overlap_tensor.dtype)\n",
    "    return torch.einsum('kij,...k->...ij', cob, overlap_tensor)"
   ]
  },
  {
   "cell_type": "code",
   "execution_count": 12,
   "metadata": {},
   "outputs": [],
   "source": [
    "rtps = {\n",
    "    key: construct_rtp(key) for key in overlap_tensors.keys()\n",
    "}\n",
    "\n",
    "overlap_tensors_reduced = {\n",
    "    key: reduce_overlap_tensor(value, rtps[key]) for key, value in overlap_tensors.items()\n",
    "}"
   ]
  },
  {
   "cell_type": "code",
   "execution_count": 13,
   "metadata": {},
   "outputs": [
    {
     "data": {
      "text/plain": [
       "(1x0e+1x1o+1x0e+1x0e+1x1o+1x0e+1x0e+1x1o+1x0e+1x2e+1x1o+1x0e+1x0e+1x1e+1x2e+1x1o+1x0e+1x1e+1x2e+1x1o+1x1o+1x0e+1x1e+1x2e+1x1o+1x1o+1x2o+1x3o+1x0e+1x1e+1x2e+1x1o+1x1o+1x0e+1x0e+1x1o+1x0e+1x0e+1x1o+1x0e+1x2e+1x1o+1x0e+1x0e+1x1o+1x0e+1x0e+1x1o+1x0e+1x2e+1x1o+1x0e+1x0e+1x1e+1x2e+1x1o+1x0e+1x1e+1x2e+1x1o+1x1o+1x2o+1x3o+1x0e+1x1e+1x2e+1x1o+1x1o+1x0e+1x0e+1x1o+1x0e+1x2e+1x1o+1x0e+1x0e+1x1o+1x0e+1x2e+1x1o+1x0e+1x0e+1x1e+1x2e+1x1o+1x2o+1x3o+1x0e+1x1e+1x2e+1x1o+1x1o+1x0e+1x2e+1x1o+1x0e+1x0e+1x1e+1x2e+1x3e+1x4e+1x1o+1x2o+1x3o+1x0e+1x1e+1x2e+1x2e+1x1o+1x0e,\n",
       " [slice(0, 1, None),\n",
       "  slice(1, 4, None),\n",
       "  slice(4, 5, None),\n",
       "  slice(5, 6, None),\n",
       "  slice(6, 9, None),\n",
       "  slice(9, 10, None),\n",
       "  slice(10, 11, None),\n",
       "  slice(11, 14, None),\n",
       "  slice(14, 15, None),\n",
       "  slice(15, 20, None),\n",
       "  slice(20, 23, None),\n",
       "  slice(23, 24, None),\n",
       "  slice(24, 33, None),\n",
       "  slice(33, 36, None),\n",
       "  slice(36, 45, None),\n",
       "  slice(45, 48, None),\n",
       "  slice(48, 51, None),\n",
       "  slice(51, 60, None),\n",
       "  slice(60, 63, None),\n",
       "  slice(63, 78, None),\n",
       "  slice(78, 87, None),\n",
       "  slice(87, 90, None),\n",
       "  slice(90, 93, None),\n",
       "  slice(93, 94, None),\n",
       "  slice(94, 95, None),\n",
       "  slice(95, 98, None),\n",
       "  slice(98, 99, None),\n",
       "  slice(99, 100, None),\n",
       "  slice(100, 103, None),\n",
       "  slice(103, 104, None),\n",
       "  slice(104, 109, None),\n",
       "  slice(109, 112, None),\n",
       "  slice(112, 113, None),\n",
       "  slice(113, 114, None),\n",
       "  slice(114, 117, None),\n",
       "  slice(117, 118, None),\n",
       "  slice(118, 119, None),\n",
       "  slice(119, 122, None),\n",
       "  slice(122, 123, None),\n",
       "  slice(123, 128, None),\n",
       "  slice(128, 131, None),\n",
       "  slice(131, 132, None),\n",
       "  slice(132, 141, None),\n",
       "  slice(141, 144, None),\n",
       "  slice(144, 153, None),\n",
       "  slice(153, 156, None),\n",
       "  slice(156, 171, None),\n",
       "  slice(171, 180, None),\n",
       "  slice(180, 183, None),\n",
       "  slice(183, 186, None),\n",
       "  slice(186, 187, None),\n",
       "  slice(187, 188, None),\n",
       "  slice(188, 191, None),\n",
       "  slice(191, 192, None),\n",
       "  slice(192, 197, None),\n",
       "  slice(197, 200, None),\n",
       "  slice(200, 201, None),\n",
       "  slice(201, 202, None),\n",
       "  slice(202, 205, None),\n",
       "  slice(205, 206, None),\n",
       "  slice(206, 211, None),\n",
       "  slice(211, 214, None),\n",
       "  slice(214, 215, None),\n",
       "  slice(215, 224, None),\n",
       "  slice(224, 239, None),\n",
       "  slice(239, 248, None),\n",
       "  slice(248, 251, None),\n",
       "  slice(251, 254, None),\n",
       "  slice(254, 255, None),\n",
       "  slice(255, 260, None),\n",
       "  slice(260, 263, None),\n",
       "  slice(263, 264, None),\n",
       "  slice(264, 289, None),\n",
       "  slice(289, 304, None),\n",
       "  slice(304, 313, None),\n",
       "  slice(313, 318, None),\n",
       "  slice(318, 321, None),\n",
       "  slice(321, 322, None)],\n",
       " torch.Size([1000, 322]))"
      ]
     },
     "execution_count": 13,
     "metadata": {},
     "output_type": "execute_result"
    }
   ],
   "source": [
    "output_irreps = [ir for ir, _ in overlap_tensors_reduced.values()]\n",
    "output_irreps_concat = sum([ir for ir in output_irreps], start=e3nn.o3.Irreps())\n",
    "output_irreps_dims = [ir.dim for ir in output_irreps]\n",
    "output_irreps_slices = [slice(sum(output_irreps_dims[:i]), sum(output_irreps_dims[:i+1])) for i in range(len(output_irreps_dims))]\n",
    "output_tensors_concat = torch.cat([t for _, t in overlap_tensors_reduced.values()], dim=-1)\n",
    "\n",
    "output_irreps_concat, output_irreps_slices, output_tensors_concat.shape"
   ]
  },
  {
   "cell_type": "code",
   "execution_count": 14,
   "metadata": {},
   "outputs": [
    {
     "name": "stdout",
     "output_type": "stream",
     "text": [
      "39x0e+32x1o+11x1e+4x2o+18x2e+4x3o+1x3e+1x4e\n"
     ]
    }
   ],
   "source": [
    "print(output_irreps_concat.regroup())"
   ]
  },
  {
   "cell_type": "code",
   "execution_count": 15,
   "metadata": {},
   "outputs": [],
   "source": [
    "edges = torch.tensor([\n",
    "    [0, 1],\n",
    "    [1, 0],\n",
    "    [2, 1],\n",
    "    [1, 2],\n",
    "    [2, 0],\n",
    "    [0, 2],\n",
    "], dtype=torch.long)\n",
    "\n",
    "\n",
    "\n",
    "class EquivariantMPNNLayer(nn.Module):\n",
    "\n",
    "    def __init__(self):\n",
    "        super().__init__()\n",
    "\n",
    "    def forward(self, node_features, edges, coords):\n",
    "        senders = edges[:, 0]\n",
    "        receivers = edges[:, 1]\n",
    "\n",
    "        # Compute the message\n",
    "        coords_senders = coords[senders]\n",
    "        coords_receivers = coords[receivers]\n",
    "        coords_edges = coords_receivers - coords_senders\n",
    "\n",
    "        senders_features = node_features[..., senders]\n",
    "        receivers_features = node_features[..., receivers]\n",
    "\n",
    "        sh_edges = e3nn.o3.spherical_harmonics(\n",
    "            l=e3nn.o3.Irreps.spherical_harmonics(2),\n",
    "            x=coords_edges,\n",
    "            normalization='component',\n",
    "        )\n",
    "        sh_tp = e3nn.o3.TensorProduct(\n",
    "            irreps_in1=self.irreps_in1,\n",
    "            irreps_in2=e3nn.o3.Irreps.spherical_harmonics(2),\n",
    "            irreps_out=self.irreps_out,\n",
    "        )(senders_features, sh_edges)\n",
    "\n",
    "        # Aggregate the messages\n",
    "        aggregated = torch_scatter.scatter(\n",
    "            sh_tp,\n",
    "            receivers,\n",
    "            dim=1,\n",
    "            dim_size=node_features.shape[-1],\n",
    "            reduce='sum',\n",
    "        )\n",
    "\n",
    "        # Perform \n",
    "\n",
    "        \n",
    "\n",
    "\n",
    "\n",
    "@e3nn.util.jit.compile_mode('trace')\n",
    "class EquivariantMPNN(nn.Module):\n",
    "\n",
    "    def __init__(self, irreps_in, irreps_hidden, irreps_out, num_layers):\n",
    "        super().__init__()\n",
    "\n",
    "        self.irreps_in = irreps_in\n",
    "        self.irreps_hidden = irreps_hidden\n",
    "        self.irreps_out = irreps_out\n",
    "\n",
    "        self.linear_in = e3nn.o3.Linear(irreps_in, irreps_hidden)\n",
    "\n",
    "        self.tps = nn.ModuleList()\n",
    "        self.linears = nn.ModuleList()\n",
    "        self.activations = nn.ModuleList()\n",
    "        for _ in range(num_layers):\n",
    "            self.tps.append(\n",
    "                e3nn.o3.FullyConnectedTensorProduct(\n",
    "                    irreps_hidden,\n",
    "                    irreps_hidden,\n",
    "                    irreps_hidden,\n",
    "                )\n",
    "            )\n",
    "            self.activations.append(\n",
    "                e3nn.nn.NormActivation(\n",
    "                    self.tps[-1].irreps_out,\n",
    "                    scalar_nonlinearity=nn.SELU(),\n",
    "                )\n",
    "            )\n",
    "            self.linears.append(e3nn.o3.Linear(self.tps[-1].irreps_out, irreps_hidden))\n",
    "        \n",
    "        self.linear_out = e3nn.o3.Linear(irreps_hidden, irreps_out)\n",
    "        self.equivariance_tested = False\n",
    "\n",
    "    def forward(self, x):\n",
    "        if not self.equivariance_tested:\n",
    "            self.equivariance_tested = True\n",
    "            e3nn.util.test.assert_equivariant(\n",
    "                self.forward,\n",
    "                args_in=(x,),\n",
    "                irreps_in=self.irreps_in,\n",
    "                irreps_out=self.irreps_out,\n",
    "            )\n",
    "    \n",
    "\n",
    "        x = self.linear_in(x)\n",
    "        for tp, activation, linear in zip(self.tps, self.activations, self.linears):\n",
    "            x_prev = x\n",
    "            x = tp(x, x)\n",
    "            x = activation(x)\n",
    "            x = linear(x)\n",
    "            x = x + x_prev\n",
    "        x = self.linear_out(x)\n",
    "        return x"
   ]
  },
  {
   "cell_type": "code",
   "execution_count": 16,
   "metadata": {},
   "outputs": [],
   "source": [
    "@e3nn.util.jit.compile_mode('trace')\n",
    "class EquivariantMLP(nn.Module):\n",
    "\n",
    "    def __init__(self, irreps_in, irreps_hidden, irreps_out, num_layers):\n",
    "        super().__init__()\n",
    "\n",
    "        self.irreps_in = irreps_in\n",
    "        self.irreps_hidden = irreps_hidden\n",
    "        self.irreps_out = irreps_out\n",
    "\n",
    "        self.linear_in = e3nn.o3.Linear(irreps_in, irreps_hidden)\n",
    "\n",
    "        self.tps = nn.ModuleList()\n",
    "        self.linears = nn.ModuleList()\n",
    "        self.activations = nn.ModuleList()\n",
    "        for _ in range(num_layers):\n",
    "            self.tps.append(\n",
    "                e3nn.o3.FullyConnectedTensorProduct(\n",
    "                    irreps_hidden,\n",
    "                    irreps_hidden,\n",
    "                    irreps_hidden,\n",
    "                )\n",
    "            )\n",
    "            self.activations.append(\n",
    "                e3nn.nn.NormActivation(\n",
    "                    self.tps[-1].irreps_out,\n",
    "                    scalar_nonlinearity=nn.SELU(),\n",
    "                )\n",
    "            )\n",
    "            self.linears.append(e3nn.o3.Linear(self.tps[-1].irreps_out, irreps_hidden))\n",
    "        \n",
    "        self.linear_out = e3nn.o3.Linear(irreps_hidden, irreps_out)\n",
    "        self.equivariance_tested = False\n",
    "\n",
    "    def forward(self, x):\n",
    "        if not self.equivariance_tested:\n",
    "            self.equivariance_tested = True\n",
    "            e3nn.util.test.assert_equivariant(\n",
    "                self.forward,\n",
    "                args_in=(x,),\n",
    "                irreps_in=self.irreps_in,\n",
    "                irreps_out=self.irreps_out,\n",
    "            )\n",
    "    \n",
    "        x = self.linear_in(x)\n",
    "        for tp, activation, linear in zip(self.tps, self.activations, self.linears):\n",
    "            x_prev = x\n",
    "            x = tp(x, x)\n",
    "            x = activation(x)\n",
    "            x = linear(x)\n",
    "            x = x + x_prev\n",
    "        x = self.linear_out(x)\n",
    "        return x"
   ]
  },
  {
   "cell_type": "code",
   "execution_count": 17,
   "metadata": {},
   "outputs": [
    {
     "data": {
      "text/plain": [
       "EquivariantMLP(\n",
       "  (linear_in): Linear(3x1o -> 80x0e+32x1o+16x1e+8x2o+24x2e+4x3o+4x3e+4x4e+4x4o+4x5e+4x5o | 96 weights)\n",
       "  (tps): ModuleList(\n",
       "    (0): FullyConnectedTensorProduct(80x0e+32x1o+16x1e+8x2o+24x2e+4x3o+4x3e+4x4e+4x4o+4x5e+4x5o x 80x0e+32x1o+16x1e+8x2o+24x2e+4x3o+4x3e+4x4e+4x4o+4x5e+4x5o -> 80x0e+32x1o+16x1e+8x2o+24x2e+4x3o+4x3e+4x4e+4x4o+4x5e+4x5o | 1380096 paths | 1380096 weights)\n",
       "    (1): FullyConnectedTensorProduct(80x0e+32x1o+16x1e+8x2o+24x2e+4x3o+4x3e+4x4e+4x4o+4x5e+4x5o x 80x0e+32x1o+16x1e+8x2o+24x2e+4x3o+4x3e+4x4e+4x4o+4x5e+4x5o -> 80x0e+32x1o+16x1e+8x2o+24x2e+4x3o+4x3e+4x4e+4x4o+4x5e+4x5o | 1380096 paths | 1380096 weights)\n",
       "    (2): FullyConnectedTensorProduct(80x0e+32x1o+16x1e+8x2o+24x2e+4x3o+4x3e+4x4e+4x4o+4x5e+4x5o x 80x0e+32x1o+16x1e+8x2o+24x2e+4x3o+4x3e+4x4e+4x4o+4x5e+4x5o -> 80x0e+32x1o+16x1e+8x2o+24x2e+4x3o+4x3e+4x4e+4x4o+4x5e+4x5o | 1380096 paths | 1380096 weights)\n",
       "  )\n",
       "  (linears): ModuleList(\n",
       "    (0): Linear(80x0e+32x1o+16x1e+8x2o+24x2e+4x3o+4x3e+4x4e+4x4o+4x5e+4x5o -> 80x0e+32x1o+16x1e+8x2o+24x2e+4x3o+4x3e+4x4e+4x4o+4x5e+4x5o | 8416 weights)\n",
       "    (1): Linear(80x0e+32x1o+16x1e+8x2o+24x2e+4x3o+4x3e+4x4e+4x4o+4x5e+4x5o -> 80x0e+32x1o+16x1e+8x2o+24x2e+4x3o+4x3e+4x4e+4x4o+4x5e+4x5o | 8416 weights)\n",
       "    (2): Linear(80x0e+32x1o+16x1e+8x2o+24x2e+4x3o+4x3e+4x4e+4x4o+4x5e+4x5o -> 80x0e+32x1o+16x1e+8x2o+24x2e+4x3o+4x3e+4x4e+4x4o+4x5e+4x5o | 8416 weights)\n",
       "  )\n",
       "  (activations): ModuleList(\n",
       "    (0): NormActivation(\n",
       "      (norm): Norm(80x0e+32x1o+16x1e+8x2o+24x2e+4x3o+4x3e+4x4e+4x4o+4x5e+4x5o)\n",
       "      (scalar_nonlinearity): SELU()\n",
       "      (scalar_multiplier): ElementwiseTensorProduct(184x0e x 80x0e+32x1o+16x1e+8x2o+24x2e+4x3o+4x3e+4x4e+4x4o+4x5e+4x5o -> 80x0e+32x1o+16x1e+8x2o+24x2e+4x3o+4x3e+4x4e+4x4o+4x5e+4x5o | 184 paths | 0 weights)\n",
       "    )\n",
       "    (1): NormActivation(\n",
       "      (norm): Norm(80x0e+32x1o+16x1e+8x2o+24x2e+4x3o+4x3e+4x4e+4x4o+4x5e+4x5o)\n",
       "      (scalar_nonlinearity): SELU()\n",
       "      (scalar_multiplier): ElementwiseTensorProduct(184x0e x 80x0e+32x1o+16x1e+8x2o+24x2e+4x3o+4x3e+4x4e+4x4o+4x5e+4x5o -> 80x0e+32x1o+16x1e+8x2o+24x2e+4x3o+4x3e+4x4e+4x4o+4x5e+4x5o | 184 paths | 0 weights)\n",
       "    )\n",
       "    (2): NormActivation(\n",
       "      (norm): Norm(80x0e+32x1o+16x1e+8x2o+24x2e+4x3o+4x3e+4x4e+4x4o+4x5e+4x5o)\n",
       "      (scalar_nonlinearity): SELU()\n",
       "      (scalar_multiplier): ElementwiseTensorProduct(184x0e x 80x0e+32x1o+16x1e+8x2o+24x2e+4x3o+4x3e+4x4e+4x4o+4x5e+4x5o -> 80x0e+32x1o+16x1e+8x2o+24x2e+4x3o+4x3e+4x4e+4x4o+4x5e+4x5o | 184 paths | 0 weights)\n",
       "    )\n",
       "  )\n",
       "  (linear_out): Linear(80x0e+32x1o+16x1e+8x2o+24x2e+4x3o+4x3e+4x4e+4x4o+4x5e+4x5o -> 1x0e+1x1o+1x0e+1x0e+1x1o+1x0e+1x0e+1x1o+1x0e+1x2e+1x1o+1x0e+1x0e+1x1e+1x2e+1x1o+1x0e+1x1e+1x2e+1x1o+1x1o+1x0e+1x1e+1x2e+1x1o+1x1o+1x2o+1x3o+1x0e+1x1e+1x2e+1x1o+1x1o+1x0e+1x0e+1x1o+1x0e+1x0e+1x1o+1x0e+1x2e+1x1o+1x0e+1x0e+1x1o+1x0e+1x0e+1x1o+1x0e+1x2e+1x1o+1x0e+1x0e+1x1e+1x2e+1x1o+1x0e+1x1e+1x2e+1x1o+1x1o+1x2o+1x3o+1x0e+1x1e+1x2e+1x1o+1x1o+1x0e+1x0e+1x1o+1x0e+1x2e+1x1o+1x0e+1x0e+1x1o+1x0e+1x2e+1x1o+1x0e+1x0e+1x1e+1x2e+1x1o+1x2o+1x3o+1x0e+1x1e+1x2e+1x1o+1x1o+1x0e+1x2e+1x1o+1x0e+1x0e+1x1e+1x2e+1x3e+1x4e+1x1o+1x2o+1x3o+1x0e+1x1e+1x2e+1x2e+1x1o+1x0e | 4808 weights)\n",
       ")"
      ]
     },
     "execution_count": 17,
     "metadata": {},
     "output_type": "execute_result"
    }
   ],
   "source": [
    "hidden_lmax = 5\n",
    "irreps_hidden = \"80x0e+32x1o+16x1e+8x2o+24x2e+4x3o+4x3e+4x4e+4x4o+4x5e+4x5o\"\n",
    "\n",
    "# hidden_channels = 8\n",
    "# irreps_hidden = e3nn.o3.Irreps.spherical_harmonics(hidden_lmax, p=-1)\n",
    "# irreps_hidden += e3nn.o3.Irreps.spherical_harmonics(hidden_lmax, p=1)\n",
    "# irreps_hidden *= hidden_channels\n",
    "# irreps_hidden = irreps_hidden.regroup()\n",
    "\n",
    "model = EquivariantMLP(\n",
    "    irreps_in=e3nn.o3.Irreps(\"3x1o\"),\n",
    "    irreps_hidden=irreps_hidden,\n",
    "    irreps_out=output_irreps_concat,\n",
    "    num_layers=3,\n",
    ")\n",
    "\n",
    "model.to(positions.dtype).to(device)"
   ]
  },
  {
   "cell_type": "code",
   "execution_count": 18,
   "metadata": {},
   "outputs": [
    {
     "data": {
      "text/plain": [
       "(4170440, device(type='cuda', index=0))"
      ]
     },
     "execution_count": 18,
     "metadata": {},
     "output_type": "execute_result"
    }
   ],
   "source": [
    "# Print the number of parameters and the device\n",
    "sum(p.numel() for p in model.parameters() if p.requires_grad), next(model.parameters()).device"
   ]
  },
  {
   "cell_type": "code",
   "execution_count": 19,
   "metadata": {},
   "outputs": [
    {
     "data": {
      "text/plain": [
       "(torch.Size([500, 9]), torch.Size([500, 322]))"
      ]
     },
     "execution_count": 19,
     "metadata": {},
     "output_type": "execute_result"
    }
   ],
   "source": [
    "positions = positions.to(device)\n",
    "output_tensors_concat = output_tensors_concat.to(device)\n",
    "\n",
    "num_train = 500\n",
    "num_test = 100\n",
    "splits =  [num_train, len(positions) - num_test - num_train, num_test]\n",
    "\n",
    "positions_train, positions_val, positions_test = torch.split(positions, splits, dim=0)\n",
    "output_tensors_concat_train, output_tensors_concat_val, output_tensors_concat_test = torch.split(output_tensors_concat, splits, dim=0)\n",
    "positions_train.shape, output_tensors_concat_train.shape"
   ]
  },
  {
   "cell_type": "code",
   "execution_count": 20,
   "metadata": {},
   "outputs": [
    {
     "ename": "ValueError",
     "evalue": "This cell is not meant to be run.",
     "output_type": "error",
     "traceback": [
      "\u001b[0;31m---------------------------------------------------------------------------\u001b[0m",
      "\u001b[0;31mValueError\u001b[0m                                Traceback (most recent call last)",
      "Cell \u001b[0;32mIn[20], line 2\u001b[0m\n\u001b[1;32m      1\u001b[0m \u001b[38;5;66;03m# Training loop\u001b[39;00m\n\u001b[0;32m----> 2\u001b[0m \u001b[38;5;28;01mraise\u001b[39;00m \u001b[38;5;167;01mValueError\u001b[39;00m(\u001b[38;5;124m'\u001b[39m\u001b[38;5;124mThis cell is not meant to be run.\u001b[39m\u001b[38;5;124m'\u001b[39m)\n\u001b[1;32m      3\u001b[0m optimizer \u001b[38;5;241m=\u001b[39m torch\u001b[38;5;241m.\u001b[39moptim\u001b[38;5;241m.\u001b[39mAdam(model\u001b[38;5;241m.\u001b[39mparameters(), lr\u001b[38;5;241m=\u001b[39m\u001b[38;5;241m1e-3\u001b[39m)\n\u001b[1;32m      4\u001b[0m batch_size \u001b[38;5;241m=\u001b[39m \u001b[38;5;241m32\u001b[39m\n",
      "\u001b[0;31mValueError\u001b[0m: This cell is not meant to be run."
     ]
    }
   ],
   "source": [
    "# Training loop\n",
    "raise ValueError('This cell is not meant to be run.')\n",
    "optimizer = torch.optim.Adam(model.parameters(), lr=1e-3)\n",
    "batch_size = 32\n",
    "\n",
    "all_results = {}\n",
    "with tqdm.trange(10000) as progress:\n",
    "    for step in progress:\n",
    "        batch = torch.randperm(len(positions_train))[:batch_size]\n",
    "\n",
    "        positions_batch = positions_train[batch]\n",
    "        output_tensors_concat_batch = output_tensors_concat_train[batch]\n",
    "        # print(positions_batch[0], output_tensors_concat_batch[0])\n",
    "\n",
    "        optimizer.zero_grad()\n",
    "        preds = model(positions_batch)\n",
    "        loss = torch.nn.functional.mse_loss(preds, output_tensors_concat_batch)\n",
    "        loss.backward()\n",
    "        optimizer.step()\n",
    "\n",
    "        if step % 100 == 0:\n",
    "            with torch.inference_mode():\n",
    "                train_rel_error = torch.norm(preds - output_tensors_concat_batch) / torch.norm(output_tensors_concat_batch)\n",
    "\n",
    "                val_preds = model(positions_val)\n",
    "                val_loss = torch.nn.functional.mse_loss(val_preds, output_tensors_concat_val)\n",
    "                val_rel_error = torch.norm(val_preds - output_tensors_concat_val) / torch.norm(output_tensors_concat_val)\n",
    "\n",
    "                results = {\n",
    "                    \"loss\": loss.item(),\n",
    "                    \"rel_error\": train_rel_error.item(),\n",
    "                    \"val_loss\": val_loss.item(),\n",
    "                    \"val_rel_error\": val_rel_error.item(),\n",
    "                } \n",
    "                all_results[step] = results\n",
    "\n",
    "                progress.set_postfix(results)\n",
    "\n"
   ]
  },
  {
   "cell_type": "code",
   "execution_count": 136,
   "metadata": {},
   "outputs": [],
   "source": [
    "# Save model and results\n",
    "torch.save(model.state_dict(), './model.pt')\n",
    "hkl.dump(all_results, './all_results.hickle')"
   ]
  },
  {
   "cell_type": "code",
   "execution_count": null,
   "metadata": {},
   "outputs": [],
   "source": [
    "steps = list(all_results.keys())\n",
    "val_losses = [all_results[step][\"val_loss\"] for step in steps]\n",
    "train_losses = [all_results[step][\"loss\"] for step in steps]\n",
    "\n",
    "plt.plot(steps, val_losses, label=\"Validation\")\n",
    "plt.plot(steps, train_losses, label=\"Training\")\n",
    "plt.yscale('log')\n",
    "plt.xlabel('Training Step')\n",
    "plt.ylabel('Loss')\n",
    "plt.title('Water Hamiltonians')\n",
    "plt.ticklabel_format(style='plain', axis='x')\n",
    "plt.legend()\n",
    "plt.show()"
   ]
  },
  {
   "cell_type": "code",
   "execution_count": null,
   "metadata": {},
   "outputs": [],
   "source": [
    "steps = list(all_results.keys())\n",
    "val_rel_errors = [all_results[step][\"val_rel_error\"] for step in steps]\n",
    "train_rel_errors = [all_results[step][\"rel_error\"] for step in steps]\n",
    "\n",
    "plt.plot(steps, val_rel_errors, label=\"Validation\")\n",
    "plt.plot(steps, train_rel_errors, label=\"Training\")\n",
    "plt.yscale('log')\n",
    "plt.xlabel('Step')\n",
    "plt.ylabel('Relative Error')\n",
    "plt.title('Water Hamiltonians')\n",
    "plt.legend()\n",
    "plt.ticklabel_format(style='plain', axis='x')\n",
    "plt.show()"
   ]
  },
  {
   "cell_type": "code",
   "execution_count": 165,
   "metadata": {},
   "outputs": [],
   "source": [
    "# Choose a structure\n",
    "val_index = 120"
   ]
  },
  {
   "cell_type": "code",
   "execution_count": 191,
   "metadata": {},
   "outputs": [
    {
     "data": {
      "application/vnd.plotly.v1+json": {
       "config": {
        "plotlyServerURL": "https://plot.ly"
       },
       "data": [
        {
         "marker": {
          "color": [
           "red",
           "blue",
           "green"
          ],
          "size": 12
         },
         "mode": "markers+text",
         "text": [
          "O",
          "H<sub>1</sub>",
          "H<sub>2</sub>"
         ],
         "textposition": "top center",
         "type": "scatter3d",
         "x": [
          -0.3464826666666667,
          0.7380623333333334,
          -0.3915796666666667
         ],
         "y": [
          -0.25578133333333336,
          -0.25578133333333336,
          0.5115626666666666
         ],
         "z": [
          0,
          0,
          0
         ]
        }
       ],
       "layout": {
        "scene": {
         "aspectmode": "cube",
         "xaxis": {
          "range": [
           -1.5,
           1.5
          ]
         },
         "yaxis": {
          "range": [
           -1.5,
           1.5
          ]
         },
         "zaxis": {
          "range": [
           -1.5,
           1.5
          ]
         }
        },
        "template": {
         "data": {
          "bar": [
           {
            "error_x": {
             "color": "#2a3f5f"
            },
            "error_y": {
             "color": "#2a3f5f"
            },
            "marker": {
             "line": {
              "color": "#E5ECF6",
              "width": 0.5
             },
             "pattern": {
              "fillmode": "overlay",
              "size": 10,
              "solidity": 0.2
             }
            },
            "type": "bar"
           }
          ],
          "barpolar": [
           {
            "marker": {
             "line": {
              "color": "#E5ECF6",
              "width": 0.5
             },
             "pattern": {
              "fillmode": "overlay",
              "size": 10,
              "solidity": 0.2
             }
            },
            "type": "barpolar"
           }
          ],
          "carpet": [
           {
            "aaxis": {
             "endlinecolor": "#2a3f5f",
             "gridcolor": "white",
             "linecolor": "white",
             "minorgridcolor": "white",
             "startlinecolor": "#2a3f5f"
            },
            "baxis": {
             "endlinecolor": "#2a3f5f",
             "gridcolor": "white",
             "linecolor": "white",
             "minorgridcolor": "white",
             "startlinecolor": "#2a3f5f"
            },
            "type": "carpet"
           }
          ],
          "choropleth": [
           {
            "colorbar": {
             "outlinewidth": 0,
             "ticks": ""
            },
            "type": "choropleth"
           }
          ],
          "contour": [
           {
            "colorbar": {
             "outlinewidth": 0,
             "ticks": ""
            },
            "colorscale": [
             [
              0,
              "#0d0887"
             ],
             [
              0.1111111111111111,
              "#46039f"
             ],
             [
              0.2222222222222222,
              "#7201a8"
             ],
             [
              0.3333333333333333,
              "#9c179e"
             ],
             [
              0.4444444444444444,
              "#bd3786"
             ],
             [
              0.5555555555555556,
              "#d8576b"
             ],
             [
              0.6666666666666666,
              "#ed7953"
             ],
             [
              0.7777777777777778,
              "#fb9f3a"
             ],
             [
              0.8888888888888888,
              "#fdca26"
             ],
             [
              1,
              "#f0f921"
             ]
            ],
            "type": "contour"
           }
          ],
          "contourcarpet": [
           {
            "colorbar": {
             "outlinewidth": 0,
             "ticks": ""
            },
            "type": "contourcarpet"
           }
          ],
          "heatmap": [
           {
            "colorbar": {
             "outlinewidth": 0,
             "ticks": ""
            },
            "colorscale": [
             [
              0,
              "#0d0887"
             ],
             [
              0.1111111111111111,
              "#46039f"
             ],
             [
              0.2222222222222222,
              "#7201a8"
             ],
             [
              0.3333333333333333,
              "#9c179e"
             ],
             [
              0.4444444444444444,
              "#bd3786"
             ],
             [
              0.5555555555555556,
              "#d8576b"
             ],
             [
              0.6666666666666666,
              "#ed7953"
             ],
             [
              0.7777777777777778,
              "#fb9f3a"
             ],
             [
              0.8888888888888888,
              "#fdca26"
             ],
             [
              1,
              "#f0f921"
             ]
            ],
            "type": "heatmap"
           }
          ],
          "heatmapgl": [
           {
            "colorbar": {
             "outlinewidth": 0,
             "ticks": ""
            },
            "colorscale": [
             [
              0,
              "#0d0887"
             ],
             [
              0.1111111111111111,
              "#46039f"
             ],
             [
              0.2222222222222222,
              "#7201a8"
             ],
             [
              0.3333333333333333,
              "#9c179e"
             ],
             [
              0.4444444444444444,
              "#bd3786"
             ],
             [
              0.5555555555555556,
              "#d8576b"
             ],
             [
              0.6666666666666666,
              "#ed7953"
             ],
             [
              0.7777777777777778,
              "#fb9f3a"
             ],
             [
              0.8888888888888888,
              "#fdca26"
             ],
             [
              1,
              "#f0f921"
             ]
            ],
            "type": "heatmapgl"
           }
          ],
          "histogram": [
           {
            "marker": {
             "pattern": {
              "fillmode": "overlay",
              "size": 10,
              "solidity": 0.2
             }
            },
            "type": "histogram"
           }
          ],
          "histogram2d": [
           {
            "colorbar": {
             "outlinewidth": 0,
             "ticks": ""
            },
            "colorscale": [
             [
              0,
              "#0d0887"
             ],
             [
              0.1111111111111111,
              "#46039f"
             ],
             [
              0.2222222222222222,
              "#7201a8"
             ],
             [
              0.3333333333333333,
              "#9c179e"
             ],
             [
              0.4444444444444444,
              "#bd3786"
             ],
             [
              0.5555555555555556,
              "#d8576b"
             ],
             [
              0.6666666666666666,
              "#ed7953"
             ],
             [
              0.7777777777777778,
              "#fb9f3a"
             ],
             [
              0.8888888888888888,
              "#fdca26"
             ],
             [
              1,
              "#f0f921"
             ]
            ],
            "type": "histogram2d"
           }
          ],
          "histogram2dcontour": [
           {
            "colorbar": {
             "outlinewidth": 0,
             "ticks": ""
            },
            "colorscale": [
             [
              0,
              "#0d0887"
             ],
             [
              0.1111111111111111,
              "#46039f"
             ],
             [
              0.2222222222222222,
              "#7201a8"
             ],
             [
              0.3333333333333333,
              "#9c179e"
             ],
             [
              0.4444444444444444,
              "#bd3786"
             ],
             [
              0.5555555555555556,
              "#d8576b"
             ],
             [
              0.6666666666666666,
              "#ed7953"
             ],
             [
              0.7777777777777778,
              "#fb9f3a"
             ],
             [
              0.8888888888888888,
              "#fdca26"
             ],
             [
              1,
              "#f0f921"
             ]
            ],
            "type": "histogram2dcontour"
           }
          ],
          "mesh3d": [
           {
            "colorbar": {
             "outlinewidth": 0,
             "ticks": ""
            },
            "type": "mesh3d"
           }
          ],
          "parcoords": [
           {
            "line": {
             "colorbar": {
              "outlinewidth": 0,
              "ticks": ""
             }
            },
            "type": "parcoords"
           }
          ],
          "pie": [
           {
            "automargin": true,
            "type": "pie"
           }
          ],
          "scatter": [
           {
            "fillpattern": {
             "fillmode": "overlay",
             "size": 10,
             "solidity": 0.2
            },
            "type": "scatter"
           }
          ],
          "scatter3d": [
           {
            "line": {
             "colorbar": {
              "outlinewidth": 0,
              "ticks": ""
             }
            },
            "marker": {
             "colorbar": {
              "outlinewidth": 0,
              "ticks": ""
             }
            },
            "type": "scatter3d"
           }
          ],
          "scattercarpet": [
           {
            "marker": {
             "colorbar": {
              "outlinewidth": 0,
              "ticks": ""
             }
            },
            "type": "scattercarpet"
           }
          ],
          "scattergeo": [
           {
            "marker": {
             "colorbar": {
              "outlinewidth": 0,
              "ticks": ""
             }
            },
            "type": "scattergeo"
           }
          ],
          "scattergl": [
           {
            "marker": {
             "colorbar": {
              "outlinewidth": 0,
              "ticks": ""
             }
            },
            "type": "scattergl"
           }
          ],
          "scattermapbox": [
           {
            "marker": {
             "colorbar": {
              "outlinewidth": 0,
              "ticks": ""
             }
            },
            "type": "scattermapbox"
           }
          ],
          "scatterpolar": [
           {
            "marker": {
             "colorbar": {
              "outlinewidth": 0,
              "ticks": ""
             }
            },
            "type": "scatterpolar"
           }
          ],
          "scatterpolargl": [
           {
            "marker": {
             "colorbar": {
              "outlinewidth": 0,
              "ticks": ""
             }
            },
            "type": "scatterpolargl"
           }
          ],
          "scatterternary": [
           {
            "marker": {
             "colorbar": {
              "outlinewidth": 0,
              "ticks": ""
             }
            },
            "type": "scatterternary"
           }
          ],
          "surface": [
           {
            "colorbar": {
             "outlinewidth": 0,
             "ticks": ""
            },
            "colorscale": [
             [
              0,
              "#0d0887"
             ],
             [
              0.1111111111111111,
              "#46039f"
             ],
             [
              0.2222222222222222,
              "#7201a8"
             ],
             [
              0.3333333333333333,
              "#9c179e"
             ],
             [
              0.4444444444444444,
              "#bd3786"
             ],
             [
              0.5555555555555556,
              "#d8576b"
             ],
             [
              0.6666666666666666,
              "#ed7953"
             ],
             [
              0.7777777777777778,
              "#fb9f3a"
             ],
             [
              0.8888888888888888,
              "#fdca26"
             ],
             [
              1,
              "#f0f921"
             ]
            ],
            "type": "surface"
           }
          ],
          "table": [
           {
            "cells": {
             "fill": {
              "color": "#EBF0F8"
             },
             "line": {
              "color": "white"
             }
            },
            "header": {
             "fill": {
              "color": "#C8D4E3"
             },
             "line": {
              "color": "white"
             }
            },
            "type": "table"
           }
          ]
         },
         "layout": {
          "annotationdefaults": {
           "arrowcolor": "#2a3f5f",
           "arrowhead": 0,
           "arrowwidth": 1
          },
          "autotypenumbers": "strict",
          "coloraxis": {
           "colorbar": {
            "outlinewidth": 0,
            "ticks": ""
           }
          },
          "colorscale": {
           "diverging": [
            [
             0,
             "#8e0152"
            ],
            [
             0.1,
             "#c51b7d"
            ],
            [
             0.2,
             "#de77ae"
            ],
            [
             0.3,
             "#f1b6da"
            ],
            [
             0.4,
             "#fde0ef"
            ],
            [
             0.5,
             "#f7f7f7"
            ],
            [
             0.6,
             "#e6f5d0"
            ],
            [
             0.7,
             "#b8e186"
            ],
            [
             0.8,
             "#7fbc41"
            ],
            [
             0.9,
             "#4d9221"
            ],
            [
             1,
             "#276419"
            ]
           ],
           "sequential": [
            [
             0,
             "#0d0887"
            ],
            [
             0.1111111111111111,
             "#46039f"
            ],
            [
             0.2222222222222222,
             "#7201a8"
            ],
            [
             0.3333333333333333,
             "#9c179e"
            ],
            [
             0.4444444444444444,
             "#bd3786"
            ],
            [
             0.5555555555555556,
             "#d8576b"
            ],
            [
             0.6666666666666666,
             "#ed7953"
            ],
            [
             0.7777777777777778,
             "#fb9f3a"
            ],
            [
             0.8888888888888888,
             "#fdca26"
            ],
            [
             1,
             "#f0f921"
            ]
           ],
           "sequentialminus": [
            [
             0,
             "#0d0887"
            ],
            [
             0.1111111111111111,
             "#46039f"
            ],
            [
             0.2222222222222222,
             "#7201a8"
            ],
            [
             0.3333333333333333,
             "#9c179e"
            ],
            [
             0.4444444444444444,
             "#bd3786"
            ],
            [
             0.5555555555555556,
             "#d8576b"
            ],
            [
             0.6666666666666666,
             "#ed7953"
            ],
            [
             0.7777777777777778,
             "#fb9f3a"
            ],
            [
             0.8888888888888888,
             "#fdca26"
            ],
            [
             1,
             "#f0f921"
            ]
           ]
          },
          "colorway": [
           "#636efa",
           "#EF553B",
           "#00cc96",
           "#ab63fa",
           "#FFA15A",
           "#19d3f3",
           "#FF6692",
           "#B6E880",
           "#FF97FF",
           "#FECB52"
          ],
          "font": {
           "color": "#2a3f5f"
          },
          "geo": {
           "bgcolor": "white",
           "lakecolor": "white",
           "landcolor": "#E5ECF6",
           "showlakes": true,
           "showland": true,
           "subunitcolor": "white"
          },
          "hoverlabel": {
           "align": "left"
          },
          "hovermode": "closest",
          "mapbox": {
           "style": "light"
          },
          "paper_bgcolor": "white",
          "plot_bgcolor": "#E5ECF6",
          "polar": {
           "angularaxis": {
            "gridcolor": "white",
            "linecolor": "white",
            "ticks": ""
           },
           "bgcolor": "#E5ECF6",
           "radialaxis": {
            "gridcolor": "white",
            "linecolor": "white",
            "ticks": ""
           }
          },
          "scene": {
           "xaxis": {
            "backgroundcolor": "#E5ECF6",
            "gridcolor": "white",
            "gridwidth": 2,
            "linecolor": "white",
            "showbackground": true,
            "ticks": "",
            "zerolinecolor": "white"
           },
           "yaxis": {
            "backgroundcolor": "#E5ECF6",
            "gridcolor": "white",
            "gridwidth": 2,
            "linecolor": "white",
            "showbackground": true,
            "ticks": "",
            "zerolinecolor": "white"
           },
           "zaxis": {
            "backgroundcolor": "#E5ECF6",
            "gridcolor": "white",
            "gridwidth": 2,
            "linecolor": "white",
            "showbackground": true,
            "ticks": "",
            "zerolinecolor": "white"
           }
          },
          "shapedefaults": {
           "line": {
            "color": "#2a3f5f"
           }
          },
          "ternary": {
           "aaxis": {
            "gridcolor": "white",
            "linecolor": "white",
            "ticks": ""
           },
           "baxis": {
            "gridcolor": "white",
            "linecolor": "white",
            "ticks": ""
           },
           "bgcolor": "#E5ECF6",
           "caxis": {
            "gridcolor": "white",
            "linecolor": "white",
            "ticks": ""
           }
          },
          "title": {
           "x": 0.05
          },
          "xaxis": {
           "automargin": true,
           "gridcolor": "white",
           "linecolor": "white",
           "ticks": "",
           "title": {
            "standoff": 15
           },
           "zerolinecolor": "white",
           "zerolinewidth": 2
          },
          "yaxis": {
           "automargin": true,
           "gridcolor": "white",
           "linecolor": "white",
           "ticks": "",
           "title": {
            "standoff": 15
           },
           "zerolinecolor": "white",
           "zerolinewidth": 2
          }
         }
        }
       }
      },
      "text/html": [
       "<div>                            <div id=\"e204a5dc-3a84-49d2-9a45-53efd333a48e\" class=\"plotly-graph-div\" style=\"height:525px; width:100%;\"></div>            <script type=\"text/javascript\">                require([\"plotly\"], function(Plotly) {                    window.PLOTLYENV=window.PLOTLYENV || {};                                    if (document.getElementById(\"e204a5dc-3a84-49d2-9a45-53efd333a48e\")) {                    Plotly.newPlot(                        \"e204a5dc-3a84-49d2-9a45-53efd333a48e\",                        [{\"marker\":{\"color\":[\"red\",\"blue\",\"green\"],\"size\":12},\"mode\":\"markers+text\",\"text\":[\"O\",\"H\\u003csub\\u003e1\\u003c\\u002fsub\\u003e\",\"H\\u003csub\\u003e2\\u003c\\u002fsub\\u003e\"],\"textposition\":\"top center\",\"x\":[-0.3464826666666667,0.7380623333333334,-0.3915796666666667],\"y\":[-0.25578133333333336,-0.25578133333333336,0.5115626666666666],\"z\":[0.0,0.0,0.0],\"type\":\"scatter3d\"}],                        {\"template\":{\"data\":{\"histogram2dcontour\":[{\"type\":\"histogram2dcontour\",\"colorbar\":{\"outlinewidth\":0,\"ticks\":\"\"},\"colorscale\":[[0.0,\"#0d0887\"],[0.1111111111111111,\"#46039f\"],[0.2222222222222222,\"#7201a8\"],[0.3333333333333333,\"#9c179e\"],[0.4444444444444444,\"#bd3786\"],[0.5555555555555556,\"#d8576b\"],[0.6666666666666666,\"#ed7953\"],[0.7777777777777778,\"#fb9f3a\"],[0.8888888888888888,\"#fdca26\"],[1.0,\"#f0f921\"]]}],\"choropleth\":[{\"type\":\"choropleth\",\"colorbar\":{\"outlinewidth\":0,\"ticks\":\"\"}}],\"histogram2d\":[{\"type\":\"histogram2d\",\"colorbar\":{\"outlinewidth\":0,\"ticks\":\"\"},\"colorscale\":[[0.0,\"#0d0887\"],[0.1111111111111111,\"#46039f\"],[0.2222222222222222,\"#7201a8\"],[0.3333333333333333,\"#9c179e\"],[0.4444444444444444,\"#bd3786\"],[0.5555555555555556,\"#d8576b\"],[0.6666666666666666,\"#ed7953\"],[0.7777777777777778,\"#fb9f3a\"],[0.8888888888888888,\"#fdca26\"],[1.0,\"#f0f921\"]]}],\"heatmap\":[{\"type\":\"heatmap\",\"colorbar\":{\"outlinewidth\":0,\"ticks\":\"\"},\"colorscale\":[[0.0,\"#0d0887\"],[0.1111111111111111,\"#46039f\"],[0.2222222222222222,\"#7201a8\"],[0.3333333333333333,\"#9c179e\"],[0.4444444444444444,\"#bd3786\"],[0.5555555555555556,\"#d8576b\"],[0.6666666666666666,\"#ed7953\"],[0.7777777777777778,\"#fb9f3a\"],[0.8888888888888888,\"#fdca26\"],[1.0,\"#f0f921\"]]}],\"heatmapgl\":[{\"type\":\"heatmapgl\",\"colorbar\":{\"outlinewidth\":0,\"ticks\":\"\"},\"colorscale\":[[0.0,\"#0d0887\"],[0.1111111111111111,\"#46039f\"],[0.2222222222222222,\"#7201a8\"],[0.3333333333333333,\"#9c179e\"],[0.4444444444444444,\"#bd3786\"],[0.5555555555555556,\"#d8576b\"],[0.6666666666666666,\"#ed7953\"],[0.7777777777777778,\"#fb9f3a\"],[0.8888888888888888,\"#fdca26\"],[1.0,\"#f0f921\"]]}],\"contourcarpet\":[{\"type\":\"contourcarpet\",\"colorbar\":{\"outlinewidth\":0,\"ticks\":\"\"}}],\"contour\":[{\"type\":\"contour\",\"colorbar\":{\"outlinewidth\":0,\"ticks\":\"\"},\"colorscale\":[[0.0,\"#0d0887\"],[0.1111111111111111,\"#46039f\"],[0.2222222222222222,\"#7201a8\"],[0.3333333333333333,\"#9c179e\"],[0.4444444444444444,\"#bd3786\"],[0.5555555555555556,\"#d8576b\"],[0.6666666666666666,\"#ed7953\"],[0.7777777777777778,\"#fb9f3a\"],[0.8888888888888888,\"#fdca26\"],[1.0,\"#f0f921\"]]}],\"surface\":[{\"type\":\"surface\",\"colorbar\":{\"outlinewidth\":0,\"ticks\":\"\"},\"colorscale\":[[0.0,\"#0d0887\"],[0.1111111111111111,\"#46039f\"],[0.2222222222222222,\"#7201a8\"],[0.3333333333333333,\"#9c179e\"],[0.4444444444444444,\"#bd3786\"],[0.5555555555555556,\"#d8576b\"],[0.6666666666666666,\"#ed7953\"],[0.7777777777777778,\"#fb9f3a\"],[0.8888888888888888,\"#fdca26\"],[1.0,\"#f0f921\"]]}],\"mesh3d\":[{\"type\":\"mesh3d\",\"colorbar\":{\"outlinewidth\":0,\"ticks\":\"\"}}],\"scatter\":[{\"fillpattern\":{\"fillmode\":\"overlay\",\"size\":10,\"solidity\":0.2},\"type\":\"scatter\"}],\"parcoords\":[{\"type\":\"parcoords\",\"line\":{\"colorbar\":{\"outlinewidth\":0,\"ticks\":\"\"}}}],\"scatterpolargl\":[{\"type\":\"scatterpolargl\",\"marker\":{\"colorbar\":{\"outlinewidth\":0,\"ticks\":\"\"}}}],\"bar\":[{\"error_x\":{\"color\":\"#2a3f5f\"},\"error_y\":{\"color\":\"#2a3f5f\"},\"marker\":{\"line\":{\"color\":\"#E5ECF6\",\"width\":0.5},\"pattern\":{\"fillmode\":\"overlay\",\"size\":10,\"solidity\":0.2}},\"type\":\"bar\"}],\"scattergeo\":[{\"type\":\"scattergeo\",\"marker\":{\"colorbar\":{\"outlinewidth\":0,\"ticks\":\"\"}}}],\"scatterpolar\":[{\"type\":\"scatterpolar\",\"marker\":{\"colorbar\":{\"outlinewidth\":0,\"ticks\":\"\"}}}],\"histogram\":[{\"marker\":{\"pattern\":{\"fillmode\":\"overlay\",\"size\":10,\"solidity\":0.2}},\"type\":\"histogram\"}],\"scattergl\":[{\"type\":\"scattergl\",\"marker\":{\"colorbar\":{\"outlinewidth\":0,\"ticks\":\"\"}}}],\"scatter3d\":[{\"type\":\"scatter3d\",\"line\":{\"colorbar\":{\"outlinewidth\":0,\"ticks\":\"\"}},\"marker\":{\"colorbar\":{\"outlinewidth\":0,\"ticks\":\"\"}}}],\"scattermapbox\":[{\"type\":\"scattermapbox\",\"marker\":{\"colorbar\":{\"outlinewidth\":0,\"ticks\":\"\"}}}],\"scatterternary\":[{\"type\":\"scatterternary\",\"marker\":{\"colorbar\":{\"outlinewidth\":0,\"ticks\":\"\"}}}],\"scattercarpet\":[{\"type\":\"scattercarpet\",\"marker\":{\"colorbar\":{\"outlinewidth\":0,\"ticks\":\"\"}}}],\"carpet\":[{\"aaxis\":{\"endlinecolor\":\"#2a3f5f\",\"gridcolor\":\"white\",\"linecolor\":\"white\",\"minorgridcolor\":\"white\",\"startlinecolor\":\"#2a3f5f\"},\"baxis\":{\"endlinecolor\":\"#2a3f5f\",\"gridcolor\":\"white\",\"linecolor\":\"white\",\"minorgridcolor\":\"white\",\"startlinecolor\":\"#2a3f5f\"},\"type\":\"carpet\"}],\"table\":[{\"cells\":{\"fill\":{\"color\":\"#EBF0F8\"},\"line\":{\"color\":\"white\"}},\"header\":{\"fill\":{\"color\":\"#C8D4E3\"},\"line\":{\"color\":\"white\"}},\"type\":\"table\"}],\"barpolar\":[{\"marker\":{\"line\":{\"color\":\"#E5ECF6\",\"width\":0.5},\"pattern\":{\"fillmode\":\"overlay\",\"size\":10,\"solidity\":0.2}},\"type\":\"barpolar\"}],\"pie\":[{\"automargin\":true,\"type\":\"pie\"}]},\"layout\":{\"autotypenumbers\":\"strict\",\"colorway\":[\"#636efa\",\"#EF553B\",\"#00cc96\",\"#ab63fa\",\"#FFA15A\",\"#19d3f3\",\"#FF6692\",\"#B6E880\",\"#FF97FF\",\"#FECB52\"],\"font\":{\"color\":\"#2a3f5f\"},\"hovermode\":\"closest\",\"hoverlabel\":{\"align\":\"left\"},\"paper_bgcolor\":\"white\",\"plot_bgcolor\":\"#E5ECF6\",\"polar\":{\"bgcolor\":\"#E5ECF6\",\"angularaxis\":{\"gridcolor\":\"white\",\"linecolor\":\"white\",\"ticks\":\"\"},\"radialaxis\":{\"gridcolor\":\"white\",\"linecolor\":\"white\",\"ticks\":\"\"}},\"ternary\":{\"bgcolor\":\"#E5ECF6\",\"aaxis\":{\"gridcolor\":\"white\",\"linecolor\":\"white\",\"ticks\":\"\"},\"baxis\":{\"gridcolor\":\"white\",\"linecolor\":\"white\",\"ticks\":\"\"},\"caxis\":{\"gridcolor\":\"white\",\"linecolor\":\"white\",\"ticks\":\"\"}},\"coloraxis\":{\"colorbar\":{\"outlinewidth\":0,\"ticks\":\"\"}},\"colorscale\":{\"sequential\":[[0.0,\"#0d0887\"],[0.1111111111111111,\"#46039f\"],[0.2222222222222222,\"#7201a8\"],[0.3333333333333333,\"#9c179e\"],[0.4444444444444444,\"#bd3786\"],[0.5555555555555556,\"#d8576b\"],[0.6666666666666666,\"#ed7953\"],[0.7777777777777778,\"#fb9f3a\"],[0.8888888888888888,\"#fdca26\"],[1.0,\"#f0f921\"]],\"sequentialminus\":[[0.0,\"#0d0887\"],[0.1111111111111111,\"#46039f\"],[0.2222222222222222,\"#7201a8\"],[0.3333333333333333,\"#9c179e\"],[0.4444444444444444,\"#bd3786\"],[0.5555555555555556,\"#d8576b\"],[0.6666666666666666,\"#ed7953\"],[0.7777777777777778,\"#fb9f3a\"],[0.8888888888888888,\"#fdca26\"],[1.0,\"#f0f921\"]],\"diverging\":[[0,\"#8e0152\"],[0.1,\"#c51b7d\"],[0.2,\"#de77ae\"],[0.3,\"#f1b6da\"],[0.4,\"#fde0ef\"],[0.5,\"#f7f7f7\"],[0.6,\"#e6f5d0\"],[0.7,\"#b8e186\"],[0.8,\"#7fbc41\"],[0.9,\"#4d9221\"],[1,\"#276419\"]]},\"xaxis\":{\"gridcolor\":\"white\",\"linecolor\":\"white\",\"ticks\":\"\",\"title\":{\"standoff\":15},\"zerolinecolor\":\"white\",\"automargin\":true,\"zerolinewidth\":2},\"yaxis\":{\"gridcolor\":\"white\",\"linecolor\":\"white\",\"ticks\":\"\",\"title\":{\"standoff\":15},\"zerolinecolor\":\"white\",\"automargin\":true,\"zerolinewidth\":2},\"scene\":{\"xaxis\":{\"backgroundcolor\":\"#E5ECF6\",\"gridcolor\":\"white\",\"linecolor\":\"white\",\"showbackground\":true,\"ticks\":\"\",\"zerolinecolor\":\"white\",\"gridwidth\":2},\"yaxis\":{\"backgroundcolor\":\"#E5ECF6\",\"gridcolor\":\"white\",\"linecolor\":\"white\",\"showbackground\":true,\"ticks\":\"\",\"zerolinecolor\":\"white\",\"gridwidth\":2},\"zaxis\":{\"backgroundcolor\":\"#E5ECF6\",\"gridcolor\":\"white\",\"linecolor\":\"white\",\"showbackground\":true,\"ticks\":\"\",\"zerolinecolor\":\"white\",\"gridwidth\":2}},\"shapedefaults\":{\"line\":{\"color\":\"#2a3f5f\"}},\"annotationdefaults\":{\"arrowcolor\":\"#2a3f5f\",\"arrowhead\":0,\"arrowwidth\":1},\"geo\":{\"bgcolor\":\"white\",\"landcolor\":\"#E5ECF6\",\"subunitcolor\":\"white\",\"showland\":true,\"showlakes\":true,\"lakecolor\":\"white\"},\"title\":{\"x\":0.05},\"mapbox\":{\"style\":\"light\"}}},\"scene\":{\"aspectmode\":\"cube\",\"xaxis\":{\"range\":[-1.5,1.5]},\"yaxis\":{\"range\":[-1.5,1.5]},\"zaxis\":{\"range\":[-1.5,1.5]}}},                        {\"responsive\": true}                    ).then(function(){\n",
       "                            \n",
       "var gd = document.getElementById('e204a5dc-3a84-49d2-9a45-53efd333a48e');\n",
       "var x = new MutationObserver(function (mutations, observer) {{\n",
       "        var display = window.getComputedStyle(gd).display;\n",
       "        if (!display || display === 'none') {{\n",
       "            console.log([gd, 'removed!']);\n",
       "            Plotly.purge(gd);\n",
       "            observer.disconnect();\n",
       "        }}\n",
       "}});\n",
       "\n",
       "// Listen for the removal of the full notebook cells\n",
       "var notebookContainer = gd.closest('#notebook-container');\n",
       "if (notebookContainer) {{\n",
       "    x.observe(notebookContainer, {childList: true});\n",
       "}}\n",
       "\n",
       "// Listen for the clearing of the current output cell\n",
       "var outputEl = gd.closest('.output');\n",
       "if (outputEl) {{\n",
       "    x.observe(outputEl, {childList: true});\n",
       "}}\n",
       "\n",
       "                        })                };                });            </script>        </div>"
      ]
     },
     "metadata": {},
     "output_type": "display_data"
    }
   ],
   "source": [
    "pos = positions_val[val_index].cpu().numpy().reshape(-1, 3)\n",
    "fig = go.Figure(data=[\n",
    "    go.Scatter3d(x=pos[:, 0], y=pos[:, 1], z=pos[:, 2],\n",
    "                 mode='markers+text',\n",
    "                 marker=dict(size=12, color=['red', 'blue', 'green']),\n",
    "                 text=['O', 'H<sub>1</sub>', 'H<sub>2</sub>'], \n",
    "                textposition='top center')\n",
    "])\n",
    "fig.update_layout(scene=dict(aspectmode='cube'))\n",
    "# Make the axes bigger\n",
    "fig.update_layout(scene=dict(xaxis=dict(range=[-1.5, 1.5]),\n",
    "                             yaxis=dict(range=[-1.5, 1.5]),\n",
    "                             zaxis=dict(range=[-1.5, 1.5])))\n",
    "fig.show()"
   ]
  },
  {
   "cell_type": "code",
   "execution_count": 167,
   "metadata": {},
   "outputs": [],
   "source": [
    "def get_orbital_labels(orbital: str):\n",
    "    assert len(orbital) in [3, 4], f'Invalid orbital: {orbital}'\n",
    "\n",
    "    if \"s\" in orbital:\n",
    "        return [\"$\\sqrt{x^2 + y^2 + z^2}$\"]\n",
    "    \n",
    "    if \"p\" in orbital:\n",
    "        return [\"$x$\", \"$y$\", \"$z$\"]\n",
    "\n",
    "    if \"d\" in orbital:\n",
    "        return [\"$xz$\", \"$xy$\", \"$2y^2 - z^2 - x^2$\", \"$yz$\", \"$z^2 - x^2$\"]\n",
    "    \n",
    "    raise ValueError(f\"Unknown orbital {orbital}\")"
   ]
  },
  {
   "cell_type": "code",
   "execution_count": null,
   "metadata": {},
   "outputs": [],
   "source": [
    "preds = model(positions_val[val_index]).cpu()\n",
    "true = output_tensors_concat_val[val_index].cpu()\n",
    "\n",
    "\n",
    "for ir, overlap, rtp, slicer in zip(output_irreps, rtps.keys(), rtps.values(), output_irreps_slices):\n",
    "    preds_block = restore_overlap_tensor(preds[slicer], rtp).detach().numpy()\n",
    "    true_block = restore_overlap_tensor(true[slicer], rtp).detach().numpy()\n",
    "\n",
    "    fig, axs = plt.subplots(ncols=2, figsize=(10, 5))\n",
    "    vmax = max(abs(true_block.min()), abs(true_block.max()))\n",
    "    im = axs[0].imshow(true_block, cmap='RdBu', vmin=-vmax, vmax=vmax)\n",
    "    _ = axs[1].imshow(preds_block, cmap='RdBu', vmin=-vmax, vmax=vmax)\n",
    "    axs[0].set_title('True')\n",
    "    axs[1].set_title('Predicted')\n",
    "\n",
    "    for ax in axs:\n",
    "        left, right = overlap.split('-')\n",
    "        ax.set_yticks(range(preds_block.shape[0]))\n",
    "        ax.set_yticklabels(get_orbital_labels(left))\n",
    "        ax.set_xticks(range(preds_block.shape[1]))\n",
    "        ax.set_xticklabels(get_orbital_labels(right))\n",
    "\n",
    "    # Reduce font size for tick labels\n",
    "    axs[0].tick_params(axis='both', which='major', labelsize=8)\n",
    "    axs[1].tick_params(axis='both', which='major', labelsize=8)\n",
    "\n",
    "    fig.suptitle(f'{overlap.replace(\"_\", \"-\")} Overlap')\n",
    "    fig.colorbar(im, ax=axs, orientation='horizontal')\n",
    "    plt.show()"
   ]
  },
  {
   "cell_type": "code",
   "execution_count": 188,
   "metadata": {},
   "outputs": [],
   "source": [
    "left_order = [\"H1s\", \"H2s\", \"H2p\"]\n",
    "left_dims = [get_irreps(orbital).dim for orbital in left_order]\n",
    "left_slices = [slice(sum(left_dims[:i]), sum(left_dims[:i+1])) for i in range(len(left_dims))]\n",
    "left_labels = [f\"{orbital}\" for orbital in left_order for label in get_orbital_labels(orbital)]\n",
    "\n",
    "right_order = [\"O1s\", \"O2s\", \"O2p\", \"O3s\", \"O3p\", \"O3d\"]\n",
    "right_dims = [get_irreps(orbital).dim for orbital in right_order]\n",
    "right_slices = [slice(sum(right_dims[:i]), sum(right_dims[:i+1])) for i in range(len(right_dims))]\n",
    "right_labels = [f\"{orbital}\" for orbital in right_order for label in get_orbital_labels(orbital)]\n",
    "\n",
    "preds = model(positions_val[val_index]).cpu()\n",
    "true = output_tensors_concat_val[val_index].cpu()\n",
    "\n",
    "pred_hamiltonian = np.zeros((sum(left_dims), sum(right_dims)))\n",
    "true_hamiltonian = np.zeros((sum(left_dims), sum(right_dims)))\n",
    "\n",
    "indices = []\n",
    "for index, overlap in enumerate(overlap_tensors_reduced.keys()):\n",
    "    left, right = overlap.split(\"-\")\n",
    "    if left[0] == \"H\" and left[:2] != \"He\" and right[0] == \"O\":\n",
    "        rtp = rtps[overlap]\n",
    "        ir_slicer = output_irreps_slices[index]\n",
    "        preds_block = restore_overlap_tensor(preds[ir_slicer], rtp).detach().numpy()\n",
    "        true_block = restore_overlap_tensor(true[ir_slicer], rtp).detach().numpy()\n",
    "\n",
    "        left_slice = left_slices[left_order.index(left)]\n",
    "        right_slice = right_slices[right_order.index(right)]\n",
    "\n",
    "        pred_hamiltonian[left_slice, right_slice] = preds_block\n",
    "        true_hamiltonian[left_slice, right_slice] = true_block"
   ]
  },
  {
   "cell_type": "code",
   "execution_count": 192,
   "metadata": {},
   "outputs": [
    {
     "data": {
      "image/png": "[encoded data removed]",
      "text/plain": [
       "<Figure size 4500x2250 with 3 Axes>"
      ]
     },
     "metadata": {},
     "output_type": "display_data"
    }
   ],
   "source": [
    "fig, axs = plt.subplots(ncols=2, figsize=(10, 5))\n",
    "vmax = max(abs(true_hamiltonian.min()), abs(true_hamiltonian.max()))\n",
    "im = axs[0].imshow(true_hamiltonian, cmap='RdBu', vmin=-vmax, vmax=vmax)\n",
    "_ = axs[1].imshow(pred_hamiltonian, cmap='RdBu', vmin=-vmax, vmax=vmax)\n",
    "fig.colorbar(im, ax=axs, orientation='horizontal')\n",
    "axs[0].set_title('True')\n",
    "axs[1].set_title('Predicted')\n",
    "\n",
    "for ax in axs:\n",
    "    ax.set_yticks(range(len(left_labels)))\n",
    "    ax.set_yticklabels(left_labels)\n",
    "    ax.set_xticks(range(len(right_labels)))\n",
    "    ax.set_xticklabels(right_labels)\n",
    "\n",
    "    ax.tick_params(axis='both', which='major', labelsize=6)\n",
    "\n"
   ]
  }
 ],
 "metadata": {
  "kernelspec": {
   "display_name": "gaunt-mace",
   "language": "python",
   "name": "python3"
  },
  "language_info": {
   "codemirror_mode": {
    "name": "ipython",
    "version": 3
   },
   "file_extension": ".py",
   "mimetype": "text/x-python",
   "name": "python",
   "nbconvert_exporter": "python",
   "pygments_lexer": "ipython3",
   "version": "3.10.15"
  }
 },
 "nbformat": 4,
 "nbformat_minor": 2
}
